{
 "cells": [
  {
   "cell_type": "markdown",
   "id": "691fc29f-3d24-40b9-b2f3-299725d739d9",
   "metadata": {},
   "source": [
    "## 한국관광공사_국문 관광정보 서비스_GW 의 지역기반 관광정보조회에서 AREA_TOUR_FACILITY.csv 추출하기"
   ]
  },
  {
   "cell_type": "code",
   "execution_count": 62,
   "id": "56bd9d41-3232-46b7-b760-c82aa4c17f81",
   "metadata": {
    "tags": []
   },
   "outputs": [
    {
     "name": "stdout",
     "output_type": "stream",
     "text": [
      "50206\n",
      "      FACILITY_TYPE_ID                                     FACILITY_TITLE   \n",
      "1                   38                             가가밀라노 롯데백화점 에비뉴엘 월드타워점  \\\n",
      "2                   38                                               가가상점   \n",
      "3                   39                                                가가와   \n",
      "4                   38                                               가가책방   \n",
      "5                   12                                          가거도(소흑산도)   \n",
      "...                ...                                                ...   \n",
      "50202               38                                     ㈜엔터식스패션쇼핑몰 안양점   \n",
      "50203               38                                    ㈜엔터식스패션쇼핑몰 천호역점   \n",
      "50204               15                                          何時何地 하시하지   \n",
      "50205               12                                        故박정렬여사 추모공원   \n",
      "50206               15  ﻿PEACE BLOCK(평화 블록) - ‘평화통일’ 기원 11월 한강공원 시민 참여 행사   \n",
      "\n",
      "                MAP_X          MAP_Y                           ADDRESS   \n",
      "1      127.1040305171  37.5142459111              서울 송파구 올림픽로 300¸ 2층   \\\n",
      "2      127.1216721795  36.4529297875              충청남도 공주시 감영길 3 (반죽동)   \n",
      "3      129.0598281416  35.1448074253            부산광역시 부산진구  중앙번영로 (6)    \n",
      "4      127.1219610659  36.4520687798           충청남도 공주시 당간지주길 10 (반죽동)   \n",
      "5      125.1125145360  34.0740166502      전라남도 신안군 흑산면 가거도길 38-2 (흑산면)   \n",
      "...               ...            ...                               ...   \n",
      "50202  126.9227001979  37.4013779824      경기도 안양시 만안구 만안로 232 안양역사직접연결   \n",
      "50203  127.1233169363  37.5393933386     서울특별시 강동구 천호대로 997 5,8호선천호역B1   \n",
      "50204  127.4213431926  36.3270133926                 대전광역시 중구 중앙로 101    \n",
      "50205  128.3606601431  37.7321800501               강원도 홍천군 내면 원자운길 38    \n",
      "50206  127.0867542138  37.5176785349  서울특별시 송파구 한가람로 65 한강사업본부 잠실안내센터    \n",
      "\n",
      "        CATEGORY AREACODE SIGUNGUCODE  \n",
      "1      A04011000        1          18  \n",
      "2      A04010600       34           1  \n",
      "3      A05020300        6           7  \n",
      "4      A02061000       34           1  \n",
      "5      A01011300       38          12  \n",
      "...          ...      ...         ...  \n",
      "50202  A04011000       31          17  \n",
      "50203  A04011000        1           2  \n",
      "50204  A02080200        3           5  \n",
      "50205  A02020700       32          16  \n",
      "50206  A02081300        1          18  \n",
      "\n",
      "[50206 rows x 8 columns]\n"
     ]
    }
   ],
   "source": [
    "# 라이브러리 import\n",
    "import requests\n",
    "import pprint\n",
    "import json\n",
    "\n",
    "serviceKey = '자신의 api key 작성'\n",
    "\n",
    "# total_count 뽑기 위해 url 불러오기\n",
    "response = requests.get(f'https://apis.data.go.kr/B551011/KorService1/areaBasedList1?serviceKey={serviceKey}&MobileOS=ETC&MobileApp=AppTest&_type=json')\n",
    "contents = response.text\n",
    "total_count = json.loads(contents)['response']['body']['totalCount']\n",
    "\n",
    "# url 한번 더 불러오기\n",
    "response = requests.get(f'https://apis.data.go.kr/B551011/KorService1/areaBasedList1?serviceKey={serviceKey}&MobileOS=ETC&MobileApp=AppTest&numOfRows={total_count}&_type=json')\n",
    "contents = response.text\n",
    "\n",
    "#문자열을 json으로 변경\n",
    "json_ob = json.loads(contents)\n",
    "#print(type(json_ob)) #json타입 확인\n",
    "#print(type(total_count)) #json타입 확인\n",
    "\n",
    "# 필요한 내용만 꺼내기\n",
    "body = json_ob['response']['body']['items']['item']\n",
    "\n",
    "\n",
    "# pandas import\n",
    "import pandas as pd\n",
    "import csv\n",
    "\n",
    "# Dataframe으로 만들기\n",
    "df = pd.json_normalize(body)\n",
    "\n",
    "df['ADDRESS'] = df['addr1'].str.cat(df['addr2'], sep=' ')\n",
    "selected_columns = ['contenttypeid', 'title', 'mapx', 'mapy', 'ADDRESS','cat3','areacode', 'sigungucode']\n",
    "df = df[selected_columns]\n",
    "\n",
    "# 컬럼명 바꾸기\n",
    "new_columns = ['FACILITY_TYPE_ID', 'FACILITY_TITLE', 'MAP_X','MAP_Y','ADDRESS','CATEGORY','AREACODE', 'SIGUNGUCODE']\n",
    "df.columns = new_columns\n",
    "# 인덱스 1부터 시작\n",
    "df.index = range(1, len(df) + 1)\n",
    "header = 'FACILITY_ID'\n",
    "df.to_csv('AREA_TOUR_FACILITY.csv', index_label=header)\n",
    "print(df)\n"
   ]
  }
 ],
 "metadata": {
  "kernelspec": {
   "display_name": "Python 3 (ipykernel)",
   "language": "python",
   "name": "python3"
  },
  "language_info": {
   "codemirror_mode": {
    "name": "ipython",
    "version": 3
   },
   "file_extension": ".py",
   "mimetype": "text/x-python",
   "name": "python",
   "nbconvert_exporter": "python",
   "pygments_lexer": "ipython3",
   "version": "3.11.3"
  }
 },
 "nbformat": 4,
 "nbformat_minor": 5
}
